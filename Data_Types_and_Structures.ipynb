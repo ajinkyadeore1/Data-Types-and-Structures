{
  "nbformat": 4,
  "nbformat_minor": 0,
  "metadata": {
    "colab": {
      "provenance": []
    },
    "kernelspec": {
      "name": "python3",
      "display_name": "Python 3"
    },
    "language_info": {
      "name": "python"
    }
  },
  "cells": [
    {
      "cell_type": "markdown",
      "source": [
        "# **Data Types and Structures Questions**\n",
        "\n",
        "1. What are data structures, and why are they important?\n",
        "--> Data structures are specialized formats for organizing and storing data to enable efficient access and modification. Examples include arrays, linked lists, stacks, queues, trees, and graphs. They are fundamental for managing data in algorithms and applications.\n",
        "\n",
        "Why are Data Structures Important?\n",
        "\n",
        "They improve efficiency by reducing time and space complexity, optimize algorithms, and help model real-world problems. Proper use of data structures ensures scalability, organization, and faster data operations. They are essential for solving complex computational problems.\n",
        "\n",
        "2. Explain the difference between mutable and immutable data types with examples?\n",
        "--> Mutable objects can be modified after creation (e.g., lists, dictionaries, sets).\n",
        "\n",
        "Immutable objects cannot be changed after creation (e.g., integers, strings, tuples).\n",
        "\n",
        "3. What are the main differences between lists and tuples in Python?\n",
        "--> Lists are mutable (can be modified after creation) and use square brackets [].\n",
        "\n",
        "Tuples are immutable (cannot be modified after creation) and use parentheses ().\n",
        "\n",
        "4. Describe how dictionaries store data.\n",
        "--> Dictionaries store data as key-value pairs, where each key is unique and maps to a value. They use hashing for efficient lookup, insertion, and deletion, providing O(1) average time complexity for these operations.\n",
        "\n",
        "5. Why might you use a set instead of a list in Python?\n",
        "--> Sets are used when you need unique elements and fast membership testing (O(1) time complexity).\n",
        "\n",
        "Lists allow duplicates and maintain order but have slower membership testing (O(n) time complexity).\n",
        "\n",
        "6. What is a string in Python, and how is it different from a list?\n",
        "--> Strings are immutable sequences of characters, used for text data and enclosed in quotes (\"\" or ''). They cannot be modified after creation.\n",
        "\n",
        "Lists are mutable sequences that can hold any data type and use square brackets []. They allow modifications like adding, removing, or changing elements.\n",
        "\n",
        "Strings are optimized for text operations, while lists are flexible for storing and manipulating collections of items.\n",
        "\n",
        "7. How do tuples ensure data integrity in Python?\n",
        "--> Tuples are immutable, meaning their elements cannot be changed after creation. This prevents accidental modifications, ensuring data remains consistent and secure. They are ideal for storing fixed data, like configurations or constants.\n",
        "\n",
        "8. What is a hash table, and how does it relate to dictionaries in Python?\n",
        "--> A hash table is a data structure that maps keys to values using a hash function for efficient lookup, insertion, and deletion. Dictionaries in Python are implemented using hash tables, providing O(1) average time complexity for these operations.\n",
        "\n",
        "9. Can lists contain different data types in Python?\n",
        "--> Yes, lists in Python can contain elements of different data types, including integers, strings, floats, and even other lists or objects. This flexibility makes lists versatile for storing heterogeneous data.\n",
        "\n",
        "10. Explain why strings are immutable in Python.\n",
        "--> Strings are immutable to ensure security (preventing unintended changes), optimize memory usage (allowing re-use of identical strings), and enable hashability (making them usable as dictionary keys). Immutability also simplifies concurrent programming by avoiding race conditions.\n",
        "\n",
        "11. What advantages do dictionaries offer over lists for certain tasks?\n",
        "--> Dictionaries provide fast lookups (O(1) by key, unlike O(n) in lists), key-value pairing for meaningful data organization, and unique keys to avoid duplicates. They are ideal for tasks like mapping, counting, or caching.\n",
        "\n",
        "12. Describe a scenario where using a tuple would be preferable over a list.\n",
        "--> Tuples are preferable when you need immutable data, such as storing fixed configurations, constants, or keys in dictionaries. For example, representing coordinates (x, y) or RGB colors (r, g, b) ensures data integrity and prevents accidental changes.\n",
        "\n",
        "13. How do sets handle duplicate values in Python?\n",
        "--> Sets automatically remove duplicate values because they only store unique elements. This makes them ideal for tasks like finding distinct items or eliminating duplicates from a collection.\n",
        "\n",
        "14. How does the “in” keyword work differently for lists and dictionaries?\n",
        "--> For lists, in checks for membership by scanning the entire list (O(n) time complexity). For dictionaries, in checks for key existence using hashing, providing O(1) average time complexity.\n",
        "\n",
        "15. Can you modify the elements of a tuple? Explain why or why not?\n",
        "--> No, you cannot modify the elements of a tuple because tuples are immutable. Once created, their elements cannot be changed, added, or removed. This ensures data integrity and prevents accidental modifications.\n",
        "\n",
        "16. What is a nested dictionary, and give an example of its use case?\n",
        "--> A nested dictionary is a dictionary that contains other dictionaries as values. It is useful for representing hierarchical or structured data, such as JSON-like configurations or multi-level categorizations.\n",
        "\n",
        "17. Describe the time complexity of accessing elements in a dictionary?\n",
        "--> Accessing elements in a dictionary has an average time complexity of O(1) due to hashing. This means lookups, insertions, and deletions are very fast, regardless of the dictionary's size.\n",
        "\n",
        "18. In what situations are lists preferred over dictionaries?\n",
        "--> Lists are preferred when you need ordered collections, duplicate elements, or index-based access. They are ideal for tasks like iterating through sequences, maintaining order, or storing homogeneous data.\n",
        "\n",
        "19. Why are dictionaries considered unordered, and how does that affect data retrieval?\n",
        "--> Dictionaries are considered unordered (pre-Python 3.7) because they store data based on hashing, not insertion order. This means the order of keys may not match insertion order, but it ensures fast O(1) lookups by key.\n",
        "\n",
        "20. Explain the difference between a list and a dictionary in terms of data retrieval.\n",
        "--> In a list, data is accessed by index (O(1) for known indices, O(n) for searching). In a dictionary, data is accessed by key (O(1) average time complexity), making it faster for lookups when keys are known.\n",
        "\n",
        "\n"
      ],
      "metadata": {
        "id": "MZkr7tuPVjr5"
      }
    },
    {
      "cell_type": "code",
      "source": [
        "#Practical Questions\n",
        "\n",
        "#1. Write a code to create a string with your name and print it.\n",
        "name = \"Ajinkya\"\n",
        "print(name)  # Output: Ajinkya"
      ],
      "metadata": {
        "colab": {
          "base_uri": "https://localhost:8080/"
        },
        "id": "x9RhkP0Sar50",
        "outputId": "b2d9a188-d26f-4919-858a-cbe93c0f294c"
      },
      "execution_count": null,
      "outputs": [
        {
          "output_type": "stream",
          "name": "stdout",
          "text": [
            "Ajinkya\n"
          ]
        }
      ]
    },
    {
      "cell_type": "code",
      "source": [
        "#2 Write a code to find the length of the string \"Hello World\".\n",
        "string = \"Hello World\"\n",
        "length = len(string)\n",
        "print(\"Length of the string:\", length)"
      ],
      "metadata": {
        "colab": {
          "base_uri": "https://localhost:8080/"
        },
        "id": "qZYeZVirbCtG",
        "outputId": "41f88794-e06d-4f08-ed79-a26c97eb6eb8"
      },
      "execution_count": null,
      "outputs": [
        {
          "output_type": "stream",
          "name": "stdout",
          "text": [
            "Length of the string: 11\n"
          ]
        }
      ]
    },
    {
      "cell_type": "code",
      "source": [
        "#3  Write a code to slice the first 3 characters from the string \"Python Programming\".\n",
        "string = \"Python Programming\"\n",
        "sliced_string = string[:3]  # Slice the first 3 characters\n",
        "print(\"Sliced string:\", sliced_string)"
      ],
      "metadata": {
        "colab": {
          "base_uri": "https://localhost:8080/"
        },
        "id": "VZtW7Anwbnq1",
        "outputId": "dba806e8-43b2-4cba-c8eb-b24c122fcda5"
      },
      "execution_count": null,
      "outputs": [
        {
          "output_type": "stream",
          "name": "stdout",
          "text": [
            "Sliced string: Pyt\n"
          ]
        }
      ]
    },
    {
      "cell_type": "code",
      "source": [
        "#4  Write a code to convert the string \"hello\" to uppercase.\n",
        "string = \"hello\"\n",
        "uppercase_string = string.upper()  # Convert to uppercase\n",
        "print(\"Uppercase string:\", uppercase_string)"
      ],
      "metadata": {
        "colab": {
          "base_uri": "https://localhost:8080/"
        },
        "id": "QaUQdb0Ib7Qr",
        "outputId": "32648a36-d551-4808-c91d-b3d2eebd8ed8"
      },
      "execution_count": null,
      "outputs": [
        {
          "output_type": "stream",
          "name": "stdout",
          "text": [
            "Uppercase string: HELLO\n"
          ]
        }
      ]
    },
    {
      "cell_type": "code",
      "source": [
        "#5 Write a code to replace the word \"apple\" with \"orange\" in the string \"I like apple\".\n",
        "string = \"I like apple\"\n",
        "new_string = string.replace(\"apple\", \"orange\")  # Replace \"apple\" with \"orange\"\n",
        "print(\"Updated string:\", new_string)"
      ],
      "metadata": {
        "colab": {
          "base_uri": "https://localhost:8080/"
        },
        "id": "Cxy0ujy-cHlB",
        "outputId": "e31393b8-bc22-46e5-bc13-2c4646bab9d0"
      },
      "execution_count": null,
      "outputs": [
        {
          "output_type": "stream",
          "name": "stdout",
          "text": [
            "Updated string: I like orange\n"
          ]
        }
      ]
    },
    {
      "cell_type": "code",
      "source": [
        "#6 Write a code to create a list with numbers 1 to 5 and print it.\n",
        "numbers = [1, 2, 3, 4, 5]  # Create a list with numbers 1 to 5\n",
        "print(\"List of numbers:\", numbers)"
      ],
      "metadata": {
        "colab": {
          "base_uri": "https://localhost:8080/"
        },
        "id": "Y4wOSSMFchWr",
        "outputId": "2eae93d4-e4a8-4a51-e284-9b2602515fd0"
      },
      "execution_count": null,
      "outputs": [
        {
          "output_type": "stream",
          "name": "stdout",
          "text": [
            "List of numbers: [1, 2, 3, 4, 5]\n"
          ]
        }
      ]
    },
    {
      "cell_type": "code",
      "source": [
        "#7 Write a code to append the number 10 to the list [1, 2, 3, 4].\n",
        "numbers = [1, 2, 3, 4]\n",
        "numbers.append(10)  # Append 10 to the list\n",
        "print(\"Updated list:\", numbers)"
      ],
      "metadata": {
        "colab": {
          "base_uri": "https://localhost:8080/"
        },
        "id": "955851ZUgbpO",
        "outputId": "da8154f7-c80b-481b-f342-4f102e568c82"
      },
      "execution_count": null,
      "outputs": [
        {
          "output_type": "stream",
          "name": "stdout",
          "text": [
            "Updated list: [1, 2, 3, 4, 10]\n"
          ]
        }
      ]
    },
    {
      "cell_type": "code",
      "source": [
        "#8 Write a code to remove the number 3 from the list [1, 2, 3, 4, 5].\n",
        "my_list = [1, 2, 3, 4, 5]\n",
        "my_list.remove(3)\n",
        "print(my_list)"
      ],
      "metadata": {
        "colab": {
          "base_uri": "https://localhost:8080/"
        },
        "id": "frA0CrTngosI",
        "outputId": "b7f2b57d-72fe-4457-a265-1b71823e12b2"
      },
      "execution_count": null,
      "outputs": [
        {
          "output_type": "stream",
          "name": "stdout",
          "text": [
            "[1, 2, 4, 5]\n"
          ]
        }
      ]
    },
    {
      "cell_type": "code",
      "source": [
        "#9 Write a code to access the second element in the list ['a', 'b', 'c', 'd'].\n",
        "my_list = ['a', 'b', 'c', 'd']\n",
        "second_element = my_list[1]  # Indexing starts from 0\n",
        "print(second_element)"
      ],
      "metadata": {
        "colab": {
          "base_uri": "https://localhost:8080/"
        },
        "id": "fsG2wI35g39e",
        "outputId": "66abcf5e-ddf7-440a-db7d-61925db73916"
      },
      "execution_count": null,
      "outputs": [
        {
          "output_type": "stream",
          "name": "stdout",
          "text": [
            "b\n"
          ]
        }
      ]
    },
    {
      "cell_type": "code",
      "source": [
        "#10 Write a code to reverse the list [10, 20, 30, 40, 50].\n",
        "num1 = [10, 20, 30, 40, 50]\n",
        "num1.reverse()\n",
        "print(num1)  # Output: [50, 40, 30, 20, 10]\n",
        "\n",
        "#2nd method (Slicing)\n",
        "num2 = [10, 20, 30, 40, 50]\n",
        "num3 = num2[::-1]\n",
        "print(num3)  # Output: [50, 40, 30, 20, 10]"
      ],
      "metadata": {
        "colab": {
          "base_uri": "https://localhost:8080/"
        },
        "id": "D4SaiErahGY0",
        "outputId": "bca0a136-b382-4e79-a065-39f719276377"
      },
      "execution_count": null,
      "outputs": [
        {
          "output_type": "stream",
          "name": "stdout",
          "text": [
            "[50, 40, 30, 20, 10]\n",
            "[50, 40, 30, 20, 10]\n"
          ]
        }
      ]
    },
    {
      "cell_type": "code",
      "source": [
        "#11 Write a code to create a tuple with the elements 100, 200, 300 and print it.\n",
        "numbers_tuple = (100, 200, 300)\n",
        "print(numbers_tuple)  # Output: (100, 200, 300)"
      ],
      "metadata": {
        "colab": {
          "base_uri": "https://localhost:8080/"
        },
        "id": "DgbvsgXQhf8j",
        "outputId": "61ff0dd0-850f-4a4f-c64d-ef5bc8c1ff93"
      },
      "execution_count": null,
      "outputs": [
        {
          "output_type": "stream",
          "name": "stdout",
          "text": [
            "(100, 200, 300)\n"
          ]
        }
      ]
    },
    {
      "cell_type": "code",
      "source": [
        "#12 Write a code to access the second-to-last element of the tuple ('red', 'green', 'blue', 'yellow').\n",
        "colors = ('red', 'green', 'blue', 'yellow')\n",
        "second_last_color = colors[-2]  # Negative index -2 gets the second-to-last element\n",
        "print(second_last_color)  # Output: 'blue'"
      ],
      "metadata": {
        "colab": {
          "base_uri": "https://localhost:8080/"
        },
        "id": "MliuIWjEhqaa",
        "outputId": "a2e90176-e8fa-4739-e47a-cc1d0e8d79b6"
      },
      "execution_count": null,
      "outputs": [
        {
          "output_type": "stream",
          "name": "stdout",
          "text": [
            "blue\n"
          ]
        }
      ]
    },
    {
      "cell_type": "code",
      "source": [
        "#13 Write a code to find the minimum number in the tuple (10, 20, 5, 15).\n",
        "numbers_tuple = (10, 20, 5, 15)\n",
        "min_number = min(numbers_tuple)\n",
        "print(min_number)  # Output: 5"
      ],
      "metadata": {
        "colab": {
          "base_uri": "https://localhost:8080/"
        },
        "id": "ELnVXKoDh2Yh",
        "outputId": "5812df7d-0ef6-4ad6-f2a5-5e658e32da56"
      },
      "execution_count": null,
      "outputs": [
        {
          "output_type": "stream",
          "name": "stdout",
          "text": [
            "5\n"
          ]
        }
      ]
    },
    {
      "cell_type": "code",
      "source": [
        "#14 Write a code to find the index of the element \"cat\" in the tuple ('dog', 'cat', 'rabbit').\n",
        "animals_tuple = ('dog', 'cat', 'rabbit')\n",
        "cat_index = animals_tuple.index('cat')\n",
        "print(cat_index)  # Output: 1\n"
      ],
      "metadata": {
        "colab": {
          "base_uri": "https://localhost:8080/"
        },
        "id": "fqQYJKdciBZM",
        "outputId": "d28fdd92-e8db-406d-fa9d-fbceab315877"
      },
      "execution_count": null,
      "outputs": [
        {
          "output_type": "stream",
          "name": "stdout",
          "text": [
            "1\n"
          ]
        }
      ]
    },
    {
      "cell_type": "code",
      "source": [
        "#15 Write a code to create a tuple containing three different fruits and check if \"kiwi\" is in it.\n",
        "fruits_tuple = ('apple', 'banana', 'orange')\n",
        "kiwi_present = 'kiwi' in fruits_tuple\n",
        "print(kiwi_present)  # Output: False"
      ],
      "metadata": {
        "colab": {
          "base_uri": "https://localhost:8080/"
        },
        "id": "aXUjIUoLiHCq",
        "outputId": "09224530-7f79-4aa0-edee-8565f1f32bc0"
      },
      "execution_count": null,
      "outputs": [
        {
          "output_type": "stream",
          "name": "stdout",
          "text": [
            "False\n"
          ]
        }
      ]
    },
    {
      "cell_type": "code",
      "source": [
        "#16 Write a code to create a set with the elements 'a', 'b', 'c' and print it.\n",
        "letters_set = {'a', 'b', 'c'}\n",
        "print(letters_set)  # Output: {'a', 'b', 'c'}"
      ],
      "metadata": {
        "colab": {
          "base_uri": "https://localhost:8080/"
        },
        "id": "K5m7mddDiQyz",
        "outputId": "1355a04d-561d-49d8-ac42-6d9630aaad78"
      },
      "execution_count": null,
      "outputs": [
        {
          "output_type": "stream",
          "name": "stdout",
          "text": [
            "{'a', 'b', 'c'}\n"
          ]
        }
      ]
    },
    {
      "cell_type": "code",
      "source": [
        "#17 Write a code to clear all elements from the set {1, 2, 3, 4, 5}.\n",
        "numbers_set = {1, 2, 3, 4, 5}\n",
        "numbers_set.clear()\n",
        "print(numbers_set)  # Output: set()"
      ],
      "metadata": {
        "colab": {
          "base_uri": "https://localhost:8080/"
        },
        "id": "GQDeMwZhiYSn",
        "outputId": "a276b4e5-f32e-4c90-da92-8fe76752efd4"
      },
      "execution_count": null,
      "outputs": [
        {
          "output_type": "stream",
          "name": "stdout",
          "text": [
            "set()\n"
          ]
        }
      ]
    },
    {
      "cell_type": "code",
      "source": [
        "#18 Write a code to remove the element 4 from the set {1, 2, 3, 4}.\n",
        "numbers_set = {1, 2, 3, 4}\n",
        "numbers_set.remove(4)\n",
        "print(numbers_set)  # Output: {1, 2, 3}"
      ],
      "metadata": {
        "colab": {
          "base_uri": "https://localhost:8080/"
        },
        "id": "zU5IissiieH9",
        "outputId": "514c02b6-dbb3-4a68-9563-db9f42ccf886"
      },
      "execution_count": null,
      "outputs": [
        {
          "output_type": "stream",
          "name": "stdout",
          "text": [
            "{1, 2, 3}\n"
          ]
        }
      ]
    },
    {
      "cell_type": "code",
      "source": [
        "#19 Write a code to find the union of two sets {1, 2, 3} and {3, 4, 5}.\n",
        "set1 = {1, 2, 3}\n",
        "set2 = {3, 4, 5}\n",
        "union_set = set1.union(set2)\n",
        "print(union_set)  # Output: {1, 2, 3, 4, 5}"
      ],
      "metadata": {
        "colab": {
          "base_uri": "https://localhost:8080/"
        },
        "id": "GUC1kvThikRZ",
        "outputId": "4106d59c-17d8-4d3c-95b9-46fead0d0041"
      },
      "execution_count": null,
      "outputs": [
        {
          "output_type": "stream",
          "name": "stdout",
          "text": [
            "{1, 2, 3, 4, 5}\n"
          ]
        }
      ]
    },
    {
      "cell_type": "code",
      "source": [
        "#20 Write a code to find the intersection of two sets {1, 2, 3} and {2, 3, 4}.\n",
        "set1 = {1, 2, 3}\n",
        "set2 = {2, 3, 4}\n",
        "intersection_set = set1.intersection(set2)\n",
        "print(intersection_set)  # Output: {2, 3}"
      ],
      "metadata": {
        "colab": {
          "base_uri": "https://localhost:8080/"
        },
        "id": "B_2tFvFIis_0",
        "outputId": "97f7408a-18e6-4d88-d4eb-d131eb99ebb7"
      },
      "execution_count": null,
      "outputs": [
        {
          "output_type": "stream",
          "name": "stdout",
          "text": [
            "{2, 3}\n"
          ]
        }
      ]
    },
    {
      "cell_type": "code",
      "source": [
        "#21 Write a code to create a dictionary with the keys \"name\", \"age\", and \"city\", and print it.\n",
        "person_info = {\"name\": \"Alice\", \"age\": 25, \"city\": \"New York\"}\n",
        "print(person_info)"
      ],
      "metadata": {
        "colab": {
          "base_uri": "https://localhost:8080/"
        },
        "id": "2Susou62i0Mf",
        "outputId": "87b7177f-6e32-4b01-c2c6-411352e1b027"
      },
      "execution_count": null,
      "outputs": [
        {
          "output_type": "stream",
          "name": "stdout",
          "text": [
            "{'name': 'Alice', 'age': 25, 'city': 'New York'}\n"
          ]
        }
      ]
    },
    {
      "cell_type": "code",
      "source": [
        "#22 Write a code to add a new key-value pair \"country\": \"USA\" to the dictionary {'name': 'John', 'age': 25}.\n",
        "person_dict = {'name': 'John', 'age': 25}\n",
        "person_dict['country'] = 'USA'  # Adding a new key-value pair\n",
        "print(person_dict)"
      ],
      "metadata": {
        "colab": {
          "base_uri": "https://localhost:8080/"
        },
        "id": "0BmrBUcGi8Xl",
        "outputId": "f6aee528-83fc-4ab9-bdbd-59e96fe15b0d"
      },
      "execution_count": null,
      "outputs": [
        {
          "output_type": "stream",
          "name": "stdout",
          "text": [
            "{'name': 'John', 'age': 25, 'country': 'USA'}\n"
          ]
        }
      ]
    },
    {
      "cell_type": "code",
      "source": [
        "#23 Write a code to access the value associated with the key \"name\" in the dictionary {'name': 'Alice', 'age': 30}.\n",
        "person_dict = {'name': 'Alice', 'age': 30}\n",
        "name_value = person_dict['name']\n",
        "print(name_value)  # Output: Alice"
      ],
      "metadata": {
        "colab": {
          "base_uri": "https://localhost:8080/"
        },
        "id": "t5MaTHM4jDqk",
        "outputId": "357224e5-659b-43e9-c7aa-e2fede939231"
      },
      "execution_count": null,
      "outputs": [
        {
          "output_type": "stream",
          "name": "stdout",
          "text": [
            "Alice\n"
          ]
        }
      ]
    },
    {
      "cell_type": "code",
      "source": [
        "#24 Write a code to remove the key \"age\" from the dictionary {'name': 'Bob', 'age': 22, 'city': 'New York'}.\n",
        "person_dict = {'name': 'Bob', 'age': 22, 'city': 'New York'}\n",
        "removed_value = person_dict.pop('age')  # Removes \"age\" and returns its value\n",
        "print(person_dict)  # Output: {'name': 'Bob', 'city': 'New York'}"
      ],
      "metadata": {
        "colab": {
          "base_uri": "https://localhost:8080/"
        },
        "id": "EpwXjp-ZjMVe",
        "outputId": "719b59fd-8bdc-41fa-cc4a-74e59c7dc0c6"
      },
      "execution_count": null,
      "outputs": [
        {
          "output_type": "stream",
          "name": "stdout",
          "text": [
            "{'name': 'Bob', 'city': 'New York'}\n"
          ]
        }
      ]
    },
    {
      "cell_type": "code",
      "source": [
        "#25 Write a code to check if the key \"city\" exists in the dictionary {'name': 'Alice', 'city': 'Paris'}.\n",
        "person_dict = {'name': 'Alice', 'city': 'Paris'}\n",
        "key_exists = 'city' in person_dict\n",
        "print(key_exists)  # Output: True\n"
      ],
      "metadata": {
        "colab": {
          "base_uri": "https://localhost:8080/"
        },
        "id": "ejKmOywfjV35",
        "outputId": "753b6a8d-e0c3-4296-e51b-e7316eb4d039"
      },
      "execution_count": null,
      "outputs": [
        {
          "output_type": "stream",
          "name": "stdout",
          "text": [
            "True\n"
          ]
        }
      ]
    },
    {
      "cell_type": "code",
      "source": [
        "#26 Write a code to create a list, a tuple, and a dictionary, and print them all.\n",
        "# Creating a list\n",
        "fruits_list = ['apple', 'banana', 'cherry']\n",
        "\n",
        "# Creating a tuple\n",
        "numbers_tuple = (10, 20, 30)\n",
        "\n",
        "# Creating a dictionary\n",
        "person_dict = {'name': 'Alice', 'age': 25, 'city': 'New York'}\n",
        "\n",
        "# Printing all\n",
        "print(\"List:\", fruits_list)\n",
        "print(\"Tuple:\", numbers_tuple)\n",
        "print(\"Dictionary:\", person_dict)\n"
      ],
      "metadata": {
        "colab": {
          "base_uri": "https://localhost:8080/"
        },
        "id": "5txMgZ8MjeZO",
        "outputId": "4e52e9c9-fab0-43e7-b481-99df48b99a83"
      },
      "execution_count": null,
      "outputs": [
        {
          "output_type": "stream",
          "name": "stdout",
          "text": [
            "List: ['apple', 'banana', 'cherry']\n",
            "Tuple: (10, 20, 30)\n",
            "Dictionary: {'name': 'Alice', 'age': 25, 'city': 'New York'}\n"
          ]
        }
      ]
    },
    {
      "cell_type": "code",
      "source": [
        "#27 Write a code to create a list of 5 random numbers between 1 and 100, sort it in ascending order, and print the result.(replaced)\n",
        "import random\n",
        "\n",
        "# Generate a list of 5 random numbers between 1 and 100\n",
        "random_numbers = random.sample(range(1, 101), 5)\n",
        "\n",
        "# Sort the list in ascending order\n",
        "random_numbers.sort()\n",
        "\n",
        "# Print the sorted list\n",
        "print(random_numbers)\n"
      ],
      "metadata": {
        "colab": {
          "base_uri": "https://localhost:8080/"
        },
        "id": "BnRGZM4WjlGI",
        "outputId": "ba331808-c201-4b1a-ce4d-16bdf7dd3a3c"
      },
      "execution_count": null,
      "outputs": [
        {
          "output_type": "stream",
          "name": "stdout",
          "text": [
            "[20, 33, 64, 66, 67]\n"
          ]
        }
      ]
    },
    {
      "cell_type": "code",
      "source": [
        "#28 Write a code to create a list with strings and print the element at the third index.\n",
        "# Creating a list with strings\n",
        "words_list = ['apple', 'banana', 'cherry', 'date', 'elderberry']\n",
        "\n",
        "# Accessing the element at the third index (index 3)\n",
        "third_index_element = words_list[3]\n",
        "\n",
        "# Printing the result\n",
        "print(third_index_element)  # Output: 'date'"
      ],
      "metadata": {
        "colab": {
          "base_uri": "https://localhost:8080/"
        },
        "id": "WrAc05anju8N",
        "outputId": "58a5a110-ae57-4cc2-eccf-439ab40adc47"
      },
      "execution_count": null,
      "outputs": [
        {
          "output_type": "stream",
          "name": "stdout",
          "text": [
            "date\n"
          ]
        }
      ]
    },
    {
      "cell_type": "code",
      "source": [
        "#29 Write a code to combine two dictionaries into one and print the result.\n",
        "dict1 = {'a': 1, 'b': 2}\n",
        "dict2 = {'c': 3, 'd': 4}\n",
        "\n",
        "dict1.update(dict2)  # Merges dict2 into dict1\n",
        "print(dict1)  # Output: {'a': 1, 'b': 2, 'c': 3, 'd': 4}\n"
      ],
      "metadata": {
        "colab": {
          "base_uri": "https://localhost:8080/"
        },
        "id": "H-O-seePj1j1",
        "outputId": "137e4d47-c6ce-4222-8711-fac7c8dcbe55"
      },
      "execution_count": null,
      "outputs": [
        {
          "output_type": "stream",
          "name": "stdout",
          "text": [
            "{'a': 1, 'b': 2, 'c': 3, 'd': 4}\n"
          ]
        }
      ]
    },
    {
      "cell_type": "code",
      "source": [
        "#30 Write a code to convert a list of strings into a set.\n",
        "# Creating a list of strings\n",
        "words_list = ['apple', 'banana', 'cherry', 'apple', 'banana']\n",
        "\n",
        "# Converting the list into a set\n",
        "words_set = set(words_list)\n",
        "\n",
        "# Printing the result\n",
        "print(words_set)  # Output: {'apple', 'banana', 'cherry'}\n"
      ],
      "metadata": {
        "colab": {
          "base_uri": "https://localhost:8080/"
        },
        "id": "mcQz9edcj9nP",
        "outputId": "d9e9e1e9-3b31-42b3-8f02-8d0c848dc218"
      },
      "execution_count": null,
      "outputs": [
        {
          "output_type": "stream",
          "name": "stdout",
          "text": [
            "{'cherry', 'banana', 'apple'}\n"
          ]
        }
      ]
    }
  ]
}